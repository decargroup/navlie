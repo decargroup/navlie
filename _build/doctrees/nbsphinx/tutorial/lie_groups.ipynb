{
 "cells": [
  {
   "attachments": {},
   "cell_type": "markdown",
   "metadata": {},
   "source": [
    "# Toy Problem - Lie group approach\n",
    "\n",
    "![Toy Problem](../toy_problem.png)\n",
    "\n",
    "Another way we could approach the same state estimation task is to instead use Lie group theory, which is becoming increasingly common practice in state estimation. Lie group theory can be very abstract, and the main references that navlie refer to are the following:\n",
    "\n",
    "1. [A micro Lie theory for state estimation in robotics](https://arxiv.org/abs/1812.01537)\n",
    "2. [T.Barfoot, State Estimation for Robotics](http://asrl.utias.utoronto.ca/~tdb/bib/barfoot_ser17.pdf)\n",
    "\n",
    "\n",
    "## Define the State\n",
    "Instead of representing the state using a vector, we will represent the state using an element of the *special Euclidean group* $SE(2)$, sometimes called *pose transformation matrices*. Elements of this group are 3x3 matrices of the form \n",
    "\n",
    "$$ \n",
    "\\mathbf{T} = \\begin{bmatrix} \\mathbf{C}_{ab}(\\theta) & \\mathbf{r}_a \\\\ \\mathbf{0} & 1 \\end{bmatrix} \\in SE(2)\n",
    "$$\n",
    "\n",
    "where $\\mathbf{r}_a = [x,y]^T$ again denotes the position of the robot and $\\mathbf{C}_{ab}(\\theta) \\in SO(2)$ is a rotation matrix (sometimes called a direction cosine matrix) with the form \n",
    "\n",
    "$$ \n",
    "\\mathbf{C}_{ab}(\\theta) = \\begin{bmatrix} \\cos \\theta & - \\sin \\theta \\\\ \\sin \\theta & \\cos \\theta \\end{bmatrix}.\n",
    "$$\n",
    "\n",
    "The rotation matrix transforms vectors resolved in one frame to another frame, i.e. $\\mathbf{r}_a = \\mathbf{C}_{ab} \\mathbf{r}_b$. Unlike vectors, elements of $SO(2)$ or $SE(2)$ cannot be added together to produce another valid element of $SE(2)$, but they can be multiplied together with the result still having the same form.\n",
    "\n",
    "$$\n",
    "\\mathbf{T}_1 \\mathbf{T}_2 \\in SE(2)\n",
    "$$\n",
    "\n",
    " To proceed further with our mathematical setup, we need to define a few very common operators seen in Lie group theory. The first two are the \"wedge\" $(\\cdot)^\\wedge$ and \"vee\" $(\\cdot)^\\vee$ operators, which for this specific group has the form\n",
    "\n",
    "$$ \n",
    "\\begin{bmatrix} \\theta \\\\ x \\\\ y \\end{bmatrix}^\\wedge = \\begin{bmatrix} 0 & -\\theta & x \\\\ \\theta & 0 & y \\\\ 0 & 0 & 0 \\end{bmatrix}\n",
    "$$\n",
    "\n",
    "and the $(\\cdot)^\\vee$ operator simply does the exact inverse of $(\\cdot)^\\wedge$. We can implement them as follows.\n",
    "\n"
   ]
  },
  {
   "cell_type": "code",
   "execution_count": 28,
   "metadata": {},
   "outputs": [],
   "source": [
    "%reset -f\n",
    "import numpy as np\n",
    "\n",
    "# Helper functions for SE(2)\n",
    "def wedge_se2(x):\n",
    "    return np.array([[   0, -x[0], x[1]],\n",
    "                     [x[0],     0, x[2]], \n",
    "                     [   0,     0,    0]])\n",
    "\n",
    "def vee_se2(X):\n",
    "    return np.array([X[1, 0], X[0, 2], X[1, 2]])\n"
   ]
  },
  {
   "attachments": {},
   "cell_type": "markdown",
   "metadata": {},
   "source": [
    "\n",
    "Two other fundamental relationships appearing in Lie group theory are the exponential (denoted $\\exp$) and logarithmic (denoted $\\log$) maps. While these have a deeper definition, for our case it suffices to think of them  as simply the [matrix exponential](https://en.wikipedia.org/wiki/Matrix_exponential) and [matrix logarithm](https://en.wikipedia.org/wiki/Logarithm_of_a_matrix). Using the wedge and vee operators for $SE(2)$ defined above, we can convert a 3x1 vector to an $SE(2)$ element and back as follows"
   ]
  },
  {
   "cell_type": "code",
   "execution_count": 32,
   "metadata": {},
   "outputs": [
    {
     "name": "stdout",
     "output_type": "stream",
     "text": [
      "An element of SE2:\n",
      "[[ 0.99500417 -0.09983342  0.18467933]\n",
      " [ 0.09983342  0.99500417  0.30949192]\n",
      " [ 0.          0.          1.        ]]\n",
      "\n",
      "The original vector 'representing' it:\n",
      "[0.1 0.2 0.3]\n"
     ]
    }
   ],
   "source": [
    "from scipy.linalg import expm, logm\n",
    "\n",
    "T = expm(wedge_se2(np.array([0.1, 0.2, 0.3])))\n",
    "print(\"An element of SE2:\")\n",
    "print(T)\n",
    "\n",
    "x = vee_se2(logm(T))\n",
    "print(\"\\nThe original vector 'representing' it:\")\n",
    "print(x)"
   ]
  },
  {
   "attachments": {},
   "cell_type": "markdown",
   "metadata": {},
   "source": [
    "We now have the tools we need to abstract-ify our problem a little bit. As commonly seen in the literature, we can define the so-called \"oplus\" and \"ominus\" operators as follows (sometimes called \"boxplus\" $\\boxplus$ and \"boxminus\" $\\boxminus$):\n",
    "\n",
    "$$\n",
    "\\begin{aligned}\n",
    "\\mathbf{T}_2 &= \\mathbf{T}_1 \\oplus \\boldsymbol{\\xi} := \\mathbf{T}_1 \\exp(\\boldsymbol{\\xi}^\\wedge)  \\\\\n",
    "\\boldsymbol{\\varepsilon} &= \\mathbf{T}_2 \\ominus \\mathbf{T}_1 := \\log(\\mathbf{T}_2^{-1} \\mathbf{T}_1)^\\vee\n",
    "\\end{aligned}\n",
    "$$ \n",
    "\n",
    "Here, both $\\boldsymbol{\\varepsilon}, \\boldsymbol{\\xi} \\in \\mathbb{R}^3$ are 3x1 vectors. The $\\oplus: SE(2) \\times \\mathbb{R}^3 \\to SE(2)$ operator \"adds\" a vector to an $SE(2)$ element to produce another $SE(2)$ element, and the $\\ominus:SE(2) \\times SE(2) \\to \\mathbb{R}^3$ operator \"subtracts\" two $SE(2)$ elements to produce a vector that represents the \"difference\" between them. \n",
    "\n",
    "\n",
    "With this context, lets implement an $SE(2)$ state inside navlie's framework. To define a custom state, you must subclass the `nav.State` abstract class and you *must* implement the `plus`, `minus`, and `copy` methods. These methods play exactly the role of $\\oplus$ and $\\ominus$ described above, while the `copy` method is used to create a deep copy of that state object. In addition, state objects must hold an integer property named `dof` that specifies the *degrees of freedom* associated with that state. For $SE(2)$, this is 3."
   ]
  },
  {
   "cell_type": "code",
   "execution_count": 8,
   "metadata": {},
   "outputs": [
    {
     "name": "stdout",
     "output_type": "stream",
     "text": [
      "SE2State(stamp=0.0, dof=3, state_id=None)\n",
      "    [[1. 0. 0.]\n",
      "     [0. 1. 0.]\n",
      "     [0. 0. 1.]]\n"
     ]
    }
   ],
   "source": [
    "import navlie as nav\n",
    "\n",
    "class SE2State(nav.State):\n",
    "    def __init__(self, value :np.ndarray, stamp: float):\n",
    "        super().__init__(value=value, dof=3, stamp=stamp)\n",
    "\n",
    "    def plus(self, dx: np.ndarray):\n",
    "        new_value = self.value @ expm(wedge_se2(dx))\n",
    "        return SE2State(new_value, self.stamp)\n",
    "\n",
    "    def minus(self, other: \"SE2State\"):\n",
    "        other_inv = np.linalg.inv(other.value)\n",
    "        return vee_se2(logm(other_inv @ self.value))\n",
    "    \n",
    "    def copy(self):\n",
    "        return SE2State(self.value.copy(), self.stamp)\n",
    "\n",
    "x = SE2State(np.eye(3), 0.0)\n",
    "print(x)"
   ]
  },
  {
   "attachments": {},
   "cell_type": "markdown",
   "metadata": {},
   "source": [
    "## Define the Process Model\n",
    "\n",
    "Now, we must adapt the process model to work with our new `SE2State`. It is well known that the rotational kinematics can be written directly in terms of rotation matrices using \n",
    "\n",
    "$$ \n",
    "\\dot{\\mathbf{C}}_{ab} = \\mathbf{C}_{ab}\\begin{bmatrix}0 & -\\omega \\\\ \\omega & 0 \\end{bmatrix} \n",
    "$$\n",
    "\n",
    "and that the translational kinematics can be written in vector form using \n",
    "\n",
    "$$ \n",
    "\\dot{\\mathbf{r}}_a = \\mathbf{C}_{ab} \\begin{bmatrix} v \\\\ 0 \\end{bmatrix} .\n",
    "$$\n",
    "\n",
    "By stacking these into matrices it follows that \n",
    "$$ \n",
    "\\dot{\\mathbf{T}} = \\mathbf{T} \\boldsymbol{\\varpi}^\\wedge\n",
    "$$\n",
    "\n",
    "where $\\boldsymbol{\\varpi} = [\\omega, v, 0]^T$. This equation is now a linear, matrix-valued ODE, and can be integrated exactly over a short duration $\\Delta t = t_{k+1} - t_k$ using the matrix exponential. This gives us the following discrete-time process model:\n",
    "\n",
    "$$\n",
    "\\mathbf{T}_{k+1} = \\mathbf{T}_k \\exp(\\boldsymbol{\\varpi}_k^\\wedge \\Delta t)\n",
    "$$\n",
    "\n",
    "which we can implement as follows"
   ]
  },
  {
   "cell_type": "code",
   "execution_count": 9,
   "metadata": {},
   "outputs": [],
   "source": [
    "class WheeledRobotSE2(nav.ProcessModel):\n",
    "    def __init__(self, input_covariance_matrix):\n",
    "        self.Q = input_covariance_matrix\n",
    "\n",
    "    def evaluate(self, x:SE2State, u:nav.lib.VectorInput, dt:float):\n",
    "        vel = np.array([u.value[0], u.value[1], 0])\n",
    "        x_next = x.copy()\n",
    "        x_next.value = x.value @ expm(wedge_se2(vel * dt))\n",
    "        return x_next\n",
    "    \n",
    "    def input_covariance(self, x:SE2State, u:nav.lib.VectorInput, dt:float):\n",
    "        return self.Q\n",
    "\n",
    "Q = np.eye(2) * 0.1**2\n",
    "process_model = WheeledRobotSE2(Q)"
   ]
  },
  {
   "attachments": {},
   "cell_type": "markdown",
   "metadata": {},
   "source": [
    "## Define the Measurement Model\n",
    "\n",
    "Finally, our measurement model remains largely unchanged. We just need to extract the position from an `SE2State` object now, as done below."
   ]
  },
  {
   "cell_type": "code",
   "execution_count": 10,
   "metadata": {},
   "outputs": [],
   "source": [
    "class RangeToLandmarkSE2(nav.MeasurementModel):\n",
    "    def __init__(\n",
    "        self,\n",
    "        landmark_position: np.ndarray,\n",
    "        measurement_covariance: float,\n",
    "    ):\n",
    "        self.landmark_position = landmark_position\n",
    "        self.R = measurement_covariance\n",
    "\n",
    "    def evaluate(self, x: SE2State):\n",
    "        pos = x.value[0:2, 2]\n",
    "        return np.linalg.norm(pos - self.landmark_position)\n",
    "\n",
    "    def covariance(self, x: SE2State):\n",
    "        return self.R\n",
    "    \n",
    "\n",
    "landmarks = np.array([[1, 1], [1, 2], [2, 2], [2, 1]])\n",
    "meas_models = [RangeToLandmarkSE2(landmark,  0.1**2) for landmark in landmarks]"
   ]
  },
  {
   "attachments": {},
   "cell_type": "markdown",
   "metadata": {},
   "source": [
    "## Run the Filter!\n",
    "\n",
    "And that's it! All remaining snippets are now _literally_ copy-pasted from our previous approach with zero modifications. Using the abstraction framework in navlie, we can easily switch between different state representations and process/measurement models without having to change any of data generation or filtering code. "
   ]
  },
  {
   "cell_type": "code",
   "execution_count": null,
   "metadata": {},
   "outputs": [
    {
     "name": "stdout",
     "output_type": "stream",
     "text": [
      "SE2State(stamp=0.02, dof=3, state_id=None)\n",
      "    [[ 9.99950000e-01 -9.99983333e-03  5.99990000e-03]\n",
      "     [ 9.99983333e-03  9.99950000e-01  2.99997500e-05]\n",
      "     [ 0.00000000e+00  0.00000000e+00  1.00000000e+00]]\n",
      "VectorInput(stamp=0.04, state_id=None)\n",
      "    [0.52438924 0.40056502]\n",
      "Measurement(stamp=0.0, state_id=None) of PoseRangeToLandMark\n",
      "    2.299276237837416\n"
     ]
    }
   ],
   "source": [
    "dg = nav.DataGenerator(\n",
    "    process_model=process_model,                  # process model to use\n",
    "    input_func=lambda t, x: np.array([0.5, 0.3]), # a callable that specifies the input values over time\n",
    "    input_covariance= Q,                          # numpy array or callable that specifies the input covariance over time\n",
    "    input_freq=50,                                # the frequency (Hz) at which the input is sampled (and the process model integrated)\n",
    "    meas_model_list=meas_models,                  # a list of measurement models to use\n",
    "    meas_freq_list=[10, 10, 10, 10]               # corresponding measurement frequencies (Hz)\n",
    ")\n",
    "\n",
    "state_data, input_data, meas_data = dg.generate(x, start=0, stop=30, noise=True)\n",
    "\n",
    "print(state_data[1])\n",
    "print(input_data[2])\n",
    "print(meas_data[3])"
   ]
  },
  {
   "cell_type": "code",
   "execution_count": 12,
   "metadata": {},
   "outputs": [
    {
     "data": {
      "image/png": "[encoded data removed]",
      "text/plain": [
       "<Figure size 432x288 with 3 Axes>"
      ]
     },
     "metadata": {
      "needs_background": "light"
     },
     "output_type": "display_data"
    },
    {
     "data": {
      "image/png": "[encoded data removed]",
      "text/plain": [
       "<Figure size 432x288 with 1 Axes>"
      ]
     },
     "metadata": {
      "needs_background": "light"
     },
     "output_type": "display_data"
    }
   ],
   "source": [
    "# First, define the filter\n",
    "kalman_filter = nav.ExtendedKalmanFilter(process_model)\n",
    "P0 = np.diag([0.1**2, 1**2, 1**2])  # Initial covariance\n",
    "x = nav.StateWithCovariance(x, P0)  # Estimate and covariance in one container\n",
    "\n",
    "meas_idx = 0\n",
    "y = meas_data[meas_idx]\n",
    "estimates = []\n",
    "for k in range(len(input_data) - 1):\n",
    "    u = input_data[k]\n",
    "\n",
    "    # Fuse any measurements that have occurred.\n",
    "    while y.stamp < input_data[k + 1].stamp and meas_idx < len(meas_data):\n",
    "        x = kalman_filter.correct(x, y, u)\n",
    "\n",
    "        # Load the next measurement\n",
    "        meas_idx += 1\n",
    "        if meas_idx < len(meas_data):\n",
    "            y = meas_data[meas_idx]\n",
    "\n",
    "    # Predict until the next input is available\n",
    "    dt = input_data[k + 1].stamp - x.state.stamp\n",
    "    x = kalman_filter.predict(x, u, dt)\n",
    "\n",
    "    estimates.append(x.copy())\n",
    "\n",
    "\n",
    "results = nav.GaussianResultList.from_estimates(estimates, state_data)\n",
    "\n",
    "import matplotlib.pyplot as plt\n",
    "fig, axs = nav.plot_error(results)\n",
    "axs[0].set_title(\"Estimation Errors\")\n",
    "axs[0].set_ylabel(\"theta (rad)\")\n",
    "axs[1].set_ylabel(\"x (m)\")\n",
    "axs[2].set_ylabel(\"y (m)\")\n",
    "axs[2].set_xlabel(\"Time (s)\")\n",
    "\n",
    "fig, ax = nav.plot_nees(results)\n",
    "ax.set_title(\"NEES\")\n",
    "ax.set_xlabel(\"Time (s)\")\n",
    "plt.show()"
   ]
  },
  {
   "attachments": {},
   "cell_type": "markdown",
   "metadata": {},
   "source": [
    "## Built-in Lie group states \n",
    "While we implemented our own `SE2State` from scratch here for pedagogical purposes, navlie comes with many built-in Lie group states that you can use out of the box. Some of the built-in Lie group states include:\n",
    "\n",
    "- `nav.lib.SO2State`: representing 2D rotations using, beloning to the group $SO(2)$\n",
    "- `nav.lib.SO3State`: representing 3D rotations using, beloning to the group $SO(3)$\n",
    "- `nav.lib.SE2State`: representing 2D poses using, beloning to the group $SE(2)$\n",
    "- `nav.lib.SE3State`: representing 3D poses using, beloning to the group $SE(3)$\n",
    "- `nav.lib.SE23State`: representing \"extended\" poses that also contain velocity information, belonging to the group $SE_2(3)$\n",
    "- `nav.lib.SL3State`: representing 3D homographies, belonging to the group $SL(3)$\n",
    "\n",
    "Each of these classes stores the value as a square numpy array in the `x.value` property. Moreover, closed-form formulas for the exponential and logarithmic maps have been implemented for each of these states, which is faster than using `scipy.linalg.expm` and `scipy.linalg.logm`. These underlying operations have even been implemented in C++ for maximum speed. "
   ]
  },
  {
   "attachments": {},
   "cell_type": "markdown",
   "metadata": {},
   "source": []
  }
 ],
 "metadata": {
  "kernelspec": {
   "display_name": "Python 3",
   "language": "python",
   "name": "python3"
  },
  "language_info": {
   "codemirror_mode": {
    "name": "ipython",
    "version": 3
   },
   "file_extension": ".py",
   "mimetype": "text/x-python",
   "name": "python",
   "nbconvert_exporter": "python",
   "pygments_lexer": "ipython3",
   "version": "3.8.16"
  }
 },
 "nbformat": 4,
 "nbformat_minor": 2
}
